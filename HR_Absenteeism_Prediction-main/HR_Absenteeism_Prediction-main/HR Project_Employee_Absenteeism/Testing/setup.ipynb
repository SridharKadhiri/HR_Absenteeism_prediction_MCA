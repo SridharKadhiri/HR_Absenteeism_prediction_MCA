{
 "cells": [
  {
   "cell_type": "code",
   "execution_count": 1,
   "id": "ca9cd388",
   "metadata": {},
   "outputs": [],
   "source": [
    "from Absenteeism_module import *\n",
    "# Dependencies\n",
    "# !pip install xlrd\n",
    "# !pip install pymysql \n",
    "import warnings\n",
    "warnings.filterwarnings('ignore')"
   ]
  },
  {
   "cell_type": "code",
   "execution_count": 2,
   "id": "a02e98c8",
   "metadata": {
    "scrolled": false
   },
   "outputs": [
    {
     "name": "stdout",
     "output_type": "stream",
     "text": [
      "CPU times: total: 46.9 ms\n",
      "Wall time: 226 ms\n"
     ]
    },
    {
     "data": {
      "text/plain": [
       "0.9172413793103448"
      ]
     },
     "execution_count": 2,
     "metadata": {},
     "output_type": "execute_result"
    }
   ],
   "source": [
    "%%time\n",
    "model = Absenteeism_model()\n",
    "\n",
    "columns_to_scale = ['Month of absence',\n",
    "       'Day of the week', 'Transportation expense',\n",
    "       'Distance from Residence to Work', 'Work load Average/day ',\n",
    "       'Son', 'Pet', 'Body mass index']\n",
    "cu_scaler = CustomScaler(columns_to_scale)\n",
    "\n",
    "model.load_n_clean('data_raw_new.xls')\n",
    "\n",
    "clean_data = model.data\n",
    "\n",
    "scaled_data = cu_scaler.fit_transform(clean_data)\n",
    "output = model.predicted_outputs(scaled_data.iloc[:,:-1])\n",
    "\n",
    "truth_table = scaled_data.iloc[:,-1] == output.iloc[:,-1]\n",
    "\n",
    "truth_table.sum()/truth_table.count()"
   ]
  },
  {
   "cell_type": "markdown",
   "id": "35480fc2",
   "metadata": {},
   "source": [
    "### The model is correctly predicting the target variable for about 76.55% of the instances in your dataset\n",
    "\n"
   ]
  },
  {
   "cell_type": "code",
   "execution_count": 3,
   "id": "5b448732",
   "metadata": {},
   "outputs": [],
   "source": [
    "import os\n",
    "files_list = [f for f in os.listdir() if os.path.isfile(f)]"
   ]
  },
  {
   "cell_type": "code",
   "execution_count": 4,
   "id": "ec7ffa7e",
   "metadata": {},
   "outputs": [
    {
     "name": "stdout",
     "output_type": "stream",
     "text": [
      "Absenteeism_module.py \n",
      "data_raw-Copy1.xls \n",
      "data_raw_new.xls \n",
      "Model \n",
      "processed_data_.csv \n",
      "Scaler \n",
      "setup.ipynb \n"
     ]
    }
   ],
   "source": [
    "# These are the file required to test our model with new data \n",
    "for i in files_list:\n",
    "    print(f'{i} ')\n",
    "    \n",
    "# Scaler is the pickle file which has the intercept and coefficient data \n",
    "# Model is the pickle file which stores the model parameters \n",
    "# data_raw_new.xls is the new file which is raw data \n",
    "# Absenteeism_module.py is the module which is especially for the prediction (helpful to find 76.55 observations correctly)\n",
    "# setup.ipynb ==> current file to test the model\n",
    "# processed_data_.csv is the file generated for our reference "
   ]
  },
  {
   "cell_type": "code",
   "execution_count": 5,
   "id": "a0f00ca4",
   "metadata": {},
   "outputs": [],
   "source": [
    "os.chdir(r'C:\\Users\\94407\\Downloads\\HR_Absenteeism_Prediction-main\\HR_Absenteeism_Prediction-main\\HR Project_Employee_Absenteeism')"
   ]
  },
  {
   "cell_type": "code",
   "execution_count": 6,
   "id": "25932561",
   "metadata": {},
   "outputs": [
    {
     "name": "stdout",
     "output_type": "stream",
     "text": [
      "Absenteeism_module.py \n",
      "absenteeism_predictions.csv \n",
      "Absenteeism_preprocessed.csv \n",
      "data_raw.xls \n",
      "data_raw_new.xls \n",
      "data_raw_new_explanation.xls \n",
      "Model \n",
      "Model Building.ipynb \n",
      "Model_rf \n",
      "Preprocessing_notebook.ipynb \n",
      "processed_data_.csv \n",
      "Ref_ HR_Project_multiple_model_testing.pdf \n",
      "Scaler \n",
      "Test.ipynb \n"
     ]
    }
   ],
   "source": [
    "# These are the files used to clean & scale data, train and test the model\n",
    "files_list = [f for f in os.listdir() if os.path.isfile(f)]\n",
    "for i in files_list:\n",
    "    print(f'{i} ')"
   ]
  },
  {
   "cell_type": "code",
   "execution_count": 7,
   "id": "c6d71843",
   "metadata": {},
   "outputs": [],
   "source": [
    "# import pymysql\n",
    "# conn = pymysql.connect(database= 'predicted_outputs', user= 'root', password= '2337')\n",
    "# cursor = conn.cursor()\n",
    "output.to_csv('absenteeism_predictions.csv',index=False)"
   ]
  },
  {
   "cell_type": "code",
   "execution_count": null,
   "id": "c1eb503b",
   "metadata": {},
   "outputs": [],
   "source": []
  },
  {
   "cell_type": "code",
   "execution_count": null,
   "id": "94a185a2",
   "metadata": {},
   "outputs": [],
   "source": []
  },
  {
   "cell_type": "code",
   "execution_count": null,
   "id": "9fac0d0b",
   "metadata": {},
   "outputs": [],
   "source": []
  }
 ],
 "metadata": {
  "kernelspec": {
   "display_name": "Python 3 (ipykernel)",
   "language": "python",
   "name": "python3"
  },
  "language_info": {
   "codemirror_mode": {
    "name": "ipython",
    "version": 3
   },
   "file_extension": ".py",
   "mimetype": "text/x-python",
   "name": "python",
   "nbconvert_exporter": "python",
   "pygments_lexer": "ipython3",
   "version": "3.11.5"
  }
 },
 "nbformat": 4,
 "nbformat_minor": 5
}
