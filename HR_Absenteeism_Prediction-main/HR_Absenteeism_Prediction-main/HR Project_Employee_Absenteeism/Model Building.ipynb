{
 "cells": [
  {
   "cell_type": "code",
   "execution_count": 1,
   "id": "4612c8cb",
   "metadata": {},
   "outputs": [],
   "source": [
    "# !pip install tensorflow"
   ]
  },
  {
   "cell_type": "code",
   "execution_count": 2,
   "id": "5c26de54",
   "metadata": {},
   "outputs": [],
   "source": [
    "import pandas as pd\n",
    "import numpy as np\n",
    "\n",
    "\n",
    "from sklearn.preprocessing import StandardScaler\n",
    "from sklearn.model_selection import train_test_split\n",
    "from sklearn.linear_model import LogisticRegression\n",
    "from sklearn import metrics\n",
    "\n",
    "import pickle"
   ]
  },
  {
   "cell_type": "code",
   "execution_count": 3,
   "id": "32079fb4",
   "metadata": {
    "scrolled": true
   },
   "outputs": [
    {
     "data": {
      "text/html": [
       "<div>\n",
       "<style scoped>\n",
       "    .dataframe tbody tr th:only-of-type {\n",
       "        vertical-align: middle;\n",
       "    }\n",
       "\n",
       "    .dataframe tbody tr th {\n",
       "        vertical-align: top;\n",
       "    }\n",
       "\n",
       "    .dataframe thead th {\n",
       "        text-align: right;\n",
       "    }\n",
       "</style>\n",
       "<table border=\"1\" class=\"dataframe\">\n",
       "  <thead>\n",
       "    <tr style=\"text-align: right;\">\n",
       "      <th></th>\n",
       "      <th>Reason_1</th>\n",
       "      <th>Reason_2</th>\n",
       "      <th>Reason_3</th>\n",
       "      <th>Reason_4</th>\n",
       "      <th>Month of absence</th>\n",
       "      <th>Day of the week</th>\n",
       "      <th>Transportation expense</th>\n",
       "      <th>Distance from Residence to Work</th>\n",
       "      <th>Work load Average/day</th>\n",
       "      <th>Education</th>\n",
       "      <th>Son</th>\n",
       "      <th>Pet</th>\n",
       "      <th>Body mass index</th>\n",
       "      <th>Excessive Absentise</th>\n",
       "    </tr>\n",
       "  </thead>\n",
       "  <tbody>\n",
       "    <tr>\n",
       "      <th>0</th>\n",
       "      <td>0</td>\n",
       "      <td>0</td>\n",
       "      <td>0</td>\n",
       "      <td>1</td>\n",
       "      <td>7</td>\n",
       "      <td>3</td>\n",
       "      <td>289</td>\n",
       "      <td>36</td>\n",
       "      <td>239554</td>\n",
       "      <td>0</td>\n",
       "      <td>2</td>\n",
       "      <td>1</td>\n",
       "      <td>30</td>\n",
       "      <td>1</td>\n",
       "    </tr>\n",
       "    <tr>\n",
       "      <th>1</th>\n",
       "      <td>0</td>\n",
       "      <td>0</td>\n",
       "      <td>0</td>\n",
       "      <td>0</td>\n",
       "      <td>7</td>\n",
       "      <td>3</td>\n",
       "      <td>118</td>\n",
       "      <td>13</td>\n",
       "      <td>239554</td>\n",
       "      <td>0</td>\n",
       "      <td>1</td>\n",
       "      <td>0</td>\n",
       "      <td>31</td>\n",
       "      <td>0</td>\n",
       "    </tr>\n",
       "    <tr>\n",
       "      <th>2</th>\n",
       "      <td>0</td>\n",
       "      <td>0</td>\n",
       "      <td>0</td>\n",
       "      <td>1</td>\n",
       "      <td>7</td>\n",
       "      <td>4</td>\n",
       "      <td>179</td>\n",
       "      <td>51</td>\n",
       "      <td>239554</td>\n",
       "      <td>0</td>\n",
       "      <td>0</td>\n",
       "      <td>0</td>\n",
       "      <td>31</td>\n",
       "      <td>0</td>\n",
       "    </tr>\n",
       "    <tr>\n",
       "      <th>3</th>\n",
       "      <td>1</td>\n",
       "      <td>0</td>\n",
       "      <td>0</td>\n",
       "      <td>0</td>\n",
       "      <td>7</td>\n",
       "      <td>5</td>\n",
       "      <td>279</td>\n",
       "      <td>5</td>\n",
       "      <td>239554</td>\n",
       "      <td>0</td>\n",
       "      <td>2</td>\n",
       "      <td>0</td>\n",
       "      <td>24</td>\n",
       "      <td>1</td>\n",
       "    </tr>\n",
       "    <tr>\n",
       "      <th>4</th>\n",
       "      <td>0</td>\n",
       "      <td>0</td>\n",
       "      <td>0</td>\n",
       "      <td>1</td>\n",
       "      <td>7</td>\n",
       "      <td>5</td>\n",
       "      <td>289</td>\n",
       "      <td>36</td>\n",
       "      <td>239554</td>\n",
       "      <td>0</td>\n",
       "      <td>2</td>\n",
       "      <td>1</td>\n",
       "      <td>30</td>\n",
       "      <td>0</td>\n",
       "    </tr>\n",
       "  </tbody>\n",
       "</table>\n",
       "</div>"
      ],
      "text/plain": [
       "   Reason_1  Reason_2  Reason_3  Reason_4  Month of absence  Day of the week  \\\n",
       "0         0         0         0         1                 7                3   \n",
       "1         0         0         0         0                 7                3   \n",
       "2         0         0         0         1                 7                4   \n",
       "3         1         0         0         0                 7                5   \n",
       "4         0         0         0         1                 7                5   \n",
       "\n",
       "   Transportation expense  Distance from Residence to Work  \\\n",
       "0                     289                               36   \n",
       "1                     118                               13   \n",
       "2                     179                               51   \n",
       "3                     279                                5   \n",
       "4                     289                               36   \n",
       "\n",
       "   Work load Average/day   Education  Son  Pet  Body mass index  \\\n",
       "0                  239554          0    2    1               30   \n",
       "1                  239554          0    1    0               31   \n",
       "2                  239554          0    0    0               31   \n",
       "3                  239554          0    2    0               24   \n",
       "4                  239554          0    2    1               30   \n",
       "\n",
       "   Excessive Absentise  \n",
       "0                    1  \n",
       "1                    0  \n",
       "2                    0  \n",
       "3                    1  \n",
       "4                    0  "
      ]
     },
     "execution_count": 3,
     "metadata": {},
     "output_type": "execute_result"
    }
   ],
   "source": [
    "df1  = pd.read_csv('Absenteeism_preprocessed.csv')\n",
    "df1.head()"
   ]
  },
  {
   "cell_type": "code",
   "execution_count": 4,
   "id": "e80e3b85",
   "metadata": {},
   "outputs": [
    {
     "name": "stdout",
     "output_type": "stream",
     "text": [
      "<class 'pandas.core.frame.DataFrame'>\n",
      "RangeIndex: 655 entries, 0 to 654\n",
      "Data columns (total 14 columns):\n",
      " #   Column                           Non-Null Count  Dtype\n",
      "---  ------                           --------------  -----\n",
      " 0   Reason_1                         655 non-null    int64\n",
      " 1   Reason_2                         655 non-null    int64\n",
      " 2   Reason_3                         655 non-null    int64\n",
      " 3   Reason_4                         655 non-null    int64\n",
      " 4   Month of absence                 655 non-null    int64\n",
      " 5   Day of the week                  655 non-null    int64\n",
      " 6   Transportation expense           655 non-null    int64\n",
      " 7   Distance from Residence to Work  655 non-null    int64\n",
      " 8   Work load Average/day            655 non-null    int64\n",
      " 9   Education                        655 non-null    int64\n",
      " 10  Son                              655 non-null    int64\n",
      " 11  Pet                              655 non-null    int64\n",
      " 12  Body mass index                  655 non-null    int64\n",
      " 13  Excessive Absentise              655 non-null    int64\n",
      "dtypes: int64(14)\n",
      "memory usage: 71.8 KB\n"
     ]
    }
   ],
   "source": [
    "df1.info()"
   ]
  },
  {
   "cell_type": "code",
   "execution_count": 5,
   "id": "abe11268",
   "metadata": {},
   "outputs": [
    {
     "data": {
      "text/plain": [
       "0      1\n",
       "1      0\n",
       "2      0\n",
       "3      1\n",
       "4      0\n",
       "      ..\n",
       "650    1\n",
       "651    1\n",
       "652    0\n",
       "653    0\n",
       "654    0\n",
       "Name: Excessive Absentise, Length: 655, dtype: int64"
      ]
     },
     "execution_count": 5,
     "metadata": {},
     "output_type": "execute_result"
    }
   ],
   "source": [
    "target = df1.iloc[:,-1]\n",
    "target"
   ]
  },
  {
   "cell_type": "code",
   "execution_count": 6,
   "id": "0522e012",
   "metadata": {},
   "outputs": [],
   "source": [
    "features = df1.iloc[:,:-1]"
   ]
  },
  {
   "cell_type": "code",
   "execution_count": 7,
   "id": "c0f3c8e2",
   "metadata": {},
   "outputs": [],
   "source": [
    "df5 = features.copy()"
   ]
  },
  {
   "cell_type": "markdown",
   "id": "ce1aa4a6",
   "metadata": {},
   "source": [
    "### Scaling the features except for Reasons and Education column"
   ]
  },
  {
   "cell_type": "code",
   "execution_count": 8,
   "id": "373faccb",
   "metadata": {},
   "outputs": [],
   "source": [
    "columns_to_scale =  ['Month of absence','Day of the week', 'Transportation expense',\n",
    "                     'Distance from Residence to Work', 'Work load Average/day ',\n",
    "                     'Son', 'Pet', 'Body mass index']\n"
   ]
  },
  {
   "cell_type": "code",
   "execution_count": 9,
   "id": "13178aab",
   "metadata": {},
   "outputs": [],
   "source": [
    "scaler = StandardScaler()"
   ]
  },
  {
   "cell_type": "code",
   "execution_count": 10,
   "id": "8b884a87",
   "metadata": {},
   "outputs": [
    {
     "data": {
      "text/html": [
       "<style>#sk-container-id-1 {color: black;}#sk-container-id-1 pre{padding: 0;}#sk-container-id-1 div.sk-toggleable {background-color: white;}#sk-container-id-1 label.sk-toggleable__label {cursor: pointer;display: block;width: 100%;margin-bottom: 0;padding: 0.3em;box-sizing: border-box;text-align: center;}#sk-container-id-1 label.sk-toggleable__label-arrow:before {content: \"▸\";float: left;margin-right: 0.25em;color: #696969;}#sk-container-id-1 label.sk-toggleable__label-arrow:hover:before {color: black;}#sk-container-id-1 div.sk-estimator:hover label.sk-toggleable__label-arrow:before {color: black;}#sk-container-id-1 div.sk-toggleable__content {max-height: 0;max-width: 0;overflow: hidden;text-align: left;background-color: #f0f8ff;}#sk-container-id-1 div.sk-toggleable__content pre {margin: 0.2em;color: black;border-radius: 0.25em;background-color: #f0f8ff;}#sk-container-id-1 input.sk-toggleable__control:checked~div.sk-toggleable__content {max-height: 200px;max-width: 100%;overflow: auto;}#sk-container-id-1 input.sk-toggleable__control:checked~label.sk-toggleable__label-arrow:before {content: \"▾\";}#sk-container-id-1 div.sk-estimator input.sk-toggleable__control:checked~label.sk-toggleable__label {background-color: #d4ebff;}#sk-container-id-1 div.sk-label input.sk-toggleable__control:checked~label.sk-toggleable__label {background-color: #d4ebff;}#sk-container-id-1 input.sk-hidden--visually {border: 0;clip: rect(1px 1px 1px 1px);clip: rect(1px, 1px, 1px, 1px);height: 1px;margin: -1px;overflow: hidden;padding: 0;position: absolute;width: 1px;}#sk-container-id-1 div.sk-estimator {font-family: monospace;background-color: #f0f8ff;border: 1px dotted black;border-radius: 0.25em;box-sizing: border-box;margin-bottom: 0.5em;}#sk-container-id-1 div.sk-estimator:hover {background-color: #d4ebff;}#sk-container-id-1 div.sk-parallel-item::after {content: \"\";width: 100%;border-bottom: 1px solid gray;flex-grow: 1;}#sk-container-id-1 div.sk-label:hover label.sk-toggleable__label {background-color: #d4ebff;}#sk-container-id-1 div.sk-serial::before {content: \"\";position: absolute;border-left: 1px solid gray;box-sizing: border-box;top: 0;bottom: 0;left: 50%;z-index: 0;}#sk-container-id-1 div.sk-serial {display: flex;flex-direction: column;align-items: center;background-color: white;padding-right: 0.2em;padding-left: 0.2em;position: relative;}#sk-container-id-1 div.sk-item {position: relative;z-index: 1;}#sk-container-id-1 div.sk-parallel {display: flex;align-items: stretch;justify-content: center;background-color: white;position: relative;}#sk-container-id-1 div.sk-item::before, #sk-container-id-1 div.sk-parallel-item::before {content: \"\";position: absolute;border-left: 1px solid gray;box-sizing: border-box;top: 0;bottom: 0;left: 50%;z-index: -1;}#sk-container-id-1 div.sk-parallel-item {display: flex;flex-direction: column;z-index: 1;position: relative;background-color: white;}#sk-container-id-1 div.sk-parallel-item:first-child::after {align-self: flex-end;width: 50%;}#sk-container-id-1 div.sk-parallel-item:last-child::after {align-self: flex-start;width: 50%;}#sk-container-id-1 div.sk-parallel-item:only-child::after {width: 0;}#sk-container-id-1 div.sk-dashed-wrapped {border: 1px dashed gray;margin: 0 0.4em 0.5em 0.4em;box-sizing: border-box;padding-bottom: 0.4em;background-color: white;}#sk-container-id-1 div.sk-label label {font-family: monospace;font-weight: bold;display: inline-block;line-height: 1.2em;}#sk-container-id-1 div.sk-label-container {text-align: center;}#sk-container-id-1 div.sk-container {/* jupyter's `normalize.less` sets `[hidden] { display: none; }` but bootstrap.min.css set `[hidden] { display: none !important; }` so we also need the `!important` here to be able to override the default hidden behavior on the sphinx rendered scikit-learn.org. See: https://github.com/scikit-learn/scikit-learn/issues/21755 */display: inline-block !important;position: relative;}#sk-container-id-1 div.sk-text-repr-fallback {display: none;}</style><div id=\"sk-container-id-1\" class=\"sk-top-container\"><div class=\"sk-text-repr-fallback\"><pre>StandardScaler()</pre><b>In a Jupyter environment, please rerun this cell to show the HTML representation or trust the notebook. <br />On GitHub, the HTML representation is unable to render, please try loading this page with nbviewer.org.</b></div><div class=\"sk-container\" hidden><div class=\"sk-item\"><div class=\"sk-estimator sk-toggleable\"><input class=\"sk-toggleable__control sk-hidden--visually\" id=\"sk-estimator-id-1\" type=\"checkbox\" checked><label for=\"sk-estimator-id-1\" class=\"sk-toggleable__label sk-toggleable__label-arrow\">StandardScaler</label><div class=\"sk-toggleable__content\"><pre>StandardScaler()</pre></div></div></div></div></div>"
      ],
      "text/plain": [
       "StandardScaler()"
      ]
     },
     "execution_count": 10,
     "metadata": {},
     "output_type": "execute_result"
    }
   ],
   "source": [
    "scaler.fit(df5[columns_to_scale])"
   ]
  },
  {
   "cell_type": "code",
   "execution_count": 11,
   "id": "81a48d6d",
   "metadata": {},
   "outputs": [],
   "source": [
    "df5[columns_to_scale] = scaler.transform(df5[columns_to_scale])"
   ]
  },
  {
   "cell_type": "code",
   "execution_count": 12,
   "id": "3a04ec4e",
   "metadata": {},
   "outputs": [
    {
     "data": {
      "text/html": [
       "<div>\n",
       "<style scoped>\n",
       "    .dataframe tbody tr th:only-of-type {\n",
       "        vertical-align: middle;\n",
       "    }\n",
       "\n",
       "    .dataframe tbody tr th {\n",
       "        vertical-align: top;\n",
       "    }\n",
       "\n",
       "    .dataframe thead th {\n",
       "        text-align: right;\n",
       "    }\n",
       "</style>\n",
       "<table border=\"1\" class=\"dataframe\">\n",
       "  <thead>\n",
       "    <tr style=\"text-align: right;\">\n",
       "      <th></th>\n",
       "      <th>Reason_1</th>\n",
       "      <th>Reason_2</th>\n",
       "      <th>Reason_3</th>\n",
       "      <th>Reason_4</th>\n",
       "      <th>Month of absence</th>\n",
       "      <th>Day of the week</th>\n",
       "      <th>Transportation expense</th>\n",
       "      <th>Distance from Residence to Work</th>\n",
       "      <th>Work load Average/day</th>\n",
       "      <th>Education</th>\n",
       "      <th>Son</th>\n",
       "      <th>Pet</th>\n",
       "      <th>Body mass index</th>\n",
       "    </tr>\n",
       "  </thead>\n",
       "  <tbody>\n",
       "    <tr>\n",
       "      <th>0</th>\n",
       "      <td>0</td>\n",
       "      <td>0</td>\n",
       "      <td>0</td>\n",
       "      <td>1</td>\n",
       "      <td>0.241620</td>\n",
       "      <td>-0.626495</td>\n",
       "      <td>1.041496</td>\n",
       "      <td>0.431831</td>\n",
       "      <td>-0.815904</td>\n",
       "      <td>0</td>\n",
       "      <td>0.915870</td>\n",
       "      <td>0.197263</td>\n",
       "      <td>0.751864</td>\n",
       "    </tr>\n",
       "    <tr>\n",
       "      <th>1</th>\n",
       "      <td>0</td>\n",
       "      <td>0</td>\n",
       "      <td>0</td>\n",
       "      <td>0</td>\n",
       "      <td>0.241620</td>\n",
       "      <td>-0.626495</td>\n",
       "      <td>-1.580091</td>\n",
       "      <td>-1.135012</td>\n",
       "      <td>-0.815904</td>\n",
       "      <td>0</td>\n",
       "      <td>-0.011325</td>\n",
       "      <td>-0.562779</td>\n",
       "      <td>0.981990</td>\n",
       "    </tr>\n",
       "    <tr>\n",
       "      <th>2</th>\n",
       "      <td>0</td>\n",
       "      <td>0</td>\n",
       "      <td>0</td>\n",
       "      <td>1</td>\n",
       "      <td>0.241620</td>\n",
       "      <td>0.073768</td>\n",
       "      <td>-0.644905</td>\n",
       "      <td>1.453685</td>\n",
       "      <td>-0.815904</td>\n",
       "      <td>0</td>\n",
       "      <td>-0.938519</td>\n",
       "      <td>-0.562779</td>\n",
       "      <td>0.981990</td>\n",
       "    </tr>\n",
       "    <tr>\n",
       "      <th>3</th>\n",
       "      <td>1</td>\n",
       "      <td>0</td>\n",
       "      <td>0</td>\n",
       "      <td>0</td>\n",
       "      <td>0.241620</td>\n",
       "      <td>0.774031</td>\n",
       "      <td>0.888187</td>\n",
       "      <td>-1.680000</td>\n",
       "      <td>-0.815904</td>\n",
       "      <td>0</td>\n",
       "      <td>0.915870</td>\n",
       "      <td>-0.562779</td>\n",
       "      <td>-0.628895</td>\n",
       "    </tr>\n",
       "    <tr>\n",
       "      <th>4</th>\n",
       "      <td>0</td>\n",
       "      <td>0</td>\n",
       "      <td>0</td>\n",
       "      <td>1</td>\n",
       "      <td>0.241620</td>\n",
       "      <td>0.774031</td>\n",
       "      <td>1.041496</td>\n",
       "      <td>0.431831</td>\n",
       "      <td>-0.815904</td>\n",
       "      <td>0</td>\n",
       "      <td>0.915870</td>\n",
       "      <td>0.197263</td>\n",
       "      <td>0.751864</td>\n",
       "    </tr>\n",
       "    <tr>\n",
       "      <th>...</th>\n",
       "      <td>...</td>\n",
       "      <td>...</td>\n",
       "      <td>...</td>\n",
       "      <td>...</td>\n",
       "      <td>...</td>\n",
       "      <td>...</td>\n",
       "      <td>...</td>\n",
       "      <td>...</td>\n",
       "      <td>...</td>\n",
       "      <td>...</td>\n",
       "      <td>...</td>\n",
       "      <td>...</td>\n",
       "      <td>...</td>\n",
       "    </tr>\n",
       "    <tr>\n",
       "      <th>650</th>\n",
       "      <td>1</td>\n",
       "      <td>0</td>\n",
       "      <td>0</td>\n",
       "      <td>0</td>\n",
       "      <td>0.241620</td>\n",
       "      <td>-0.626495</td>\n",
       "      <td>1.041496</td>\n",
       "      <td>0.431831</td>\n",
       "      <td>-0.169746</td>\n",
       "      <td>0</td>\n",
       "      <td>0.915870</td>\n",
       "      <td>0.197263</td>\n",
       "      <td>0.751864</td>\n",
       "    </tr>\n",
       "    <tr>\n",
       "      <th>651</th>\n",
       "      <td>1</td>\n",
       "      <td>0</td>\n",
       "      <td>0</td>\n",
       "      <td>0</td>\n",
       "      <td>0.241620</td>\n",
       "      <td>-0.626495</td>\n",
       "      <td>0.213626</td>\n",
       "      <td>-1.271259</td>\n",
       "      <td>-0.169746</td>\n",
       "      <td>1</td>\n",
       "      <td>-0.011325</td>\n",
       "      <td>0.197263</td>\n",
       "      <td>0.521737</td>\n",
       "    </tr>\n",
       "    <tr>\n",
       "      <th>652</th>\n",
       "      <td>0</td>\n",
       "      <td>0</td>\n",
       "      <td>0</td>\n",
       "      <td>0</td>\n",
       "      <td>-1.836858</td>\n",
       "      <td>-0.626495</td>\n",
       "      <td>-1.580091</td>\n",
       "      <td>-1.066888</td>\n",
       "      <td>0.000886</td>\n",
       "      <td>0</td>\n",
       "      <td>-0.011325</td>\n",
       "      <td>5.517556</td>\n",
       "      <td>1.672370</td>\n",
       "    </tr>\n",
       "    <tr>\n",
       "      <th>653</th>\n",
       "      <td>0</td>\n",
       "      <td>0</td>\n",
       "      <td>0</td>\n",
       "      <td>0</td>\n",
       "      <td>-1.836858</td>\n",
       "      <td>0.073768</td>\n",
       "      <td>0.152303</td>\n",
       "      <td>0.363707</td>\n",
       "      <td>0.000886</td>\n",
       "      <td>0</td>\n",
       "      <td>0.915870</td>\n",
       "      <td>0.957305</td>\n",
       "      <td>1.902496</td>\n",
       "    </tr>\n",
       "    <tr>\n",
       "      <th>654</th>\n",
       "      <td>0</td>\n",
       "      <td>0</td>\n",
       "      <td>0</td>\n",
       "      <td>0</td>\n",
       "      <td>-1.836858</td>\n",
       "      <td>1.474294</td>\n",
       "      <td>-0.644905</td>\n",
       "      <td>1.044943</td>\n",
       "      <td>0.000886</td>\n",
       "      <td>0</td>\n",
       "      <td>-0.011325</td>\n",
       "      <td>0.197263</td>\n",
       "      <td>-0.398769</td>\n",
       "    </tr>\n",
       "  </tbody>\n",
       "</table>\n",
       "<p>655 rows × 13 columns</p>\n",
       "</div>"
      ],
      "text/plain": [
       "     Reason_1  Reason_2  Reason_3  Reason_4  Month of absence  \\\n",
       "0           0         0         0         1          0.241620   \n",
       "1           0         0         0         0          0.241620   \n",
       "2           0         0         0         1          0.241620   \n",
       "3           1         0         0         0          0.241620   \n",
       "4           0         0         0         1          0.241620   \n",
       "..        ...       ...       ...       ...               ...   \n",
       "650         1         0         0         0          0.241620   \n",
       "651         1         0         0         0          0.241620   \n",
       "652         0         0         0         0         -1.836858   \n",
       "653         0         0         0         0         -1.836858   \n",
       "654         0         0         0         0         -1.836858   \n",
       "\n",
       "     Day of the week  Transportation expense  Distance from Residence to Work  \\\n",
       "0          -0.626495                1.041496                         0.431831   \n",
       "1          -0.626495               -1.580091                        -1.135012   \n",
       "2           0.073768               -0.644905                         1.453685   \n",
       "3           0.774031                0.888187                        -1.680000   \n",
       "4           0.774031                1.041496                         0.431831   \n",
       "..               ...                     ...                              ...   \n",
       "650        -0.626495                1.041496                         0.431831   \n",
       "651        -0.626495                0.213626                        -1.271259   \n",
       "652        -0.626495               -1.580091                        -1.066888   \n",
       "653         0.073768                0.152303                         0.363707   \n",
       "654         1.474294               -0.644905                         1.044943   \n",
       "\n",
       "     Work load Average/day   Education       Son       Pet  Body mass index  \n",
       "0                 -0.815904          0  0.915870  0.197263         0.751864  \n",
       "1                 -0.815904          0 -0.011325 -0.562779         0.981990  \n",
       "2                 -0.815904          0 -0.938519 -0.562779         0.981990  \n",
       "3                 -0.815904          0  0.915870 -0.562779        -0.628895  \n",
       "4                 -0.815904          0  0.915870  0.197263         0.751864  \n",
       "..                      ...        ...       ...       ...              ...  \n",
       "650               -0.169746          0  0.915870  0.197263         0.751864  \n",
       "651               -0.169746          1 -0.011325  0.197263         0.521737  \n",
       "652                0.000886          0 -0.011325  5.517556         1.672370  \n",
       "653                0.000886          0  0.915870  0.957305         1.902496  \n",
       "654                0.000886          0 -0.011325  0.197263        -0.398769  \n",
       "\n",
       "[655 rows x 13 columns]"
      ]
     },
     "execution_count": 12,
     "metadata": {},
     "output_type": "execute_result"
    }
   ],
   "source": [
    "df5"
   ]
  },
  {
   "cell_type": "code",
   "execution_count": 13,
   "id": "4e2e871f",
   "metadata": {},
   "outputs": [],
   "source": [
    "x_train, x_test, y_train, y_test = train_test_split(df5,target,train_size=0.8, random_state= 20)"
   ]
  },
  {
   "cell_type": "code",
   "execution_count": 14,
   "id": "2d549787",
   "metadata": {},
   "outputs": [
    {
     "name": "stdout",
     "output_type": "stream",
     "text": [
      "x_train size = (524, 13)\n",
      "x_train size = (131, 13)\n",
      "x_train size = (524,)\n",
      "x_train size = (131,)\n"
     ]
    }
   ],
   "source": [
    "print(f'x_train size = {x_train.shape}')\n",
    "print(f'x_train size = {x_test.shape}')\n",
    "print(f'x_train size = {y_train.shape}')\n",
    "print(f'x_train size = {y_test.shape}')"
   ]
  },
  {
   "cell_type": "markdown",
   "id": "ca686b84",
   "metadata": {},
   "source": [
    "# Training the model with Logestic Regression"
   ]
  },
  {
   "cell_type": "code",
   "execution_count": 15,
   "id": "a95a7433",
   "metadata": {},
   "outputs": [],
   "source": [
    "reg = LogisticRegression()"
   ]
  },
  {
   "cell_type": "code",
   "execution_count": 16,
   "id": "472491dc",
   "metadata": {},
   "outputs": [
    {
     "data": {
      "text/html": [
       "<style>#sk-container-id-2 {color: black;}#sk-container-id-2 pre{padding: 0;}#sk-container-id-2 div.sk-toggleable {background-color: white;}#sk-container-id-2 label.sk-toggleable__label {cursor: pointer;display: block;width: 100%;margin-bottom: 0;padding: 0.3em;box-sizing: border-box;text-align: center;}#sk-container-id-2 label.sk-toggleable__label-arrow:before {content: \"▸\";float: left;margin-right: 0.25em;color: #696969;}#sk-container-id-2 label.sk-toggleable__label-arrow:hover:before {color: black;}#sk-container-id-2 div.sk-estimator:hover label.sk-toggleable__label-arrow:before {color: black;}#sk-container-id-2 div.sk-toggleable__content {max-height: 0;max-width: 0;overflow: hidden;text-align: left;background-color: #f0f8ff;}#sk-container-id-2 div.sk-toggleable__content pre {margin: 0.2em;color: black;border-radius: 0.25em;background-color: #f0f8ff;}#sk-container-id-2 input.sk-toggleable__control:checked~div.sk-toggleable__content {max-height: 200px;max-width: 100%;overflow: auto;}#sk-container-id-2 input.sk-toggleable__control:checked~label.sk-toggleable__label-arrow:before {content: \"▾\";}#sk-container-id-2 div.sk-estimator input.sk-toggleable__control:checked~label.sk-toggleable__label {background-color: #d4ebff;}#sk-container-id-2 div.sk-label input.sk-toggleable__control:checked~label.sk-toggleable__label {background-color: #d4ebff;}#sk-container-id-2 input.sk-hidden--visually {border: 0;clip: rect(1px 1px 1px 1px);clip: rect(1px, 1px, 1px, 1px);height: 1px;margin: -1px;overflow: hidden;padding: 0;position: absolute;width: 1px;}#sk-container-id-2 div.sk-estimator {font-family: monospace;background-color: #f0f8ff;border: 1px dotted black;border-radius: 0.25em;box-sizing: border-box;margin-bottom: 0.5em;}#sk-container-id-2 div.sk-estimator:hover {background-color: #d4ebff;}#sk-container-id-2 div.sk-parallel-item::after {content: \"\";width: 100%;border-bottom: 1px solid gray;flex-grow: 1;}#sk-container-id-2 div.sk-label:hover label.sk-toggleable__label {background-color: #d4ebff;}#sk-container-id-2 div.sk-serial::before {content: \"\";position: absolute;border-left: 1px solid gray;box-sizing: border-box;top: 0;bottom: 0;left: 50%;z-index: 0;}#sk-container-id-2 div.sk-serial {display: flex;flex-direction: column;align-items: center;background-color: white;padding-right: 0.2em;padding-left: 0.2em;position: relative;}#sk-container-id-2 div.sk-item {position: relative;z-index: 1;}#sk-container-id-2 div.sk-parallel {display: flex;align-items: stretch;justify-content: center;background-color: white;position: relative;}#sk-container-id-2 div.sk-item::before, #sk-container-id-2 div.sk-parallel-item::before {content: \"\";position: absolute;border-left: 1px solid gray;box-sizing: border-box;top: 0;bottom: 0;left: 50%;z-index: -1;}#sk-container-id-2 div.sk-parallel-item {display: flex;flex-direction: column;z-index: 1;position: relative;background-color: white;}#sk-container-id-2 div.sk-parallel-item:first-child::after {align-self: flex-end;width: 50%;}#sk-container-id-2 div.sk-parallel-item:last-child::after {align-self: flex-start;width: 50%;}#sk-container-id-2 div.sk-parallel-item:only-child::after {width: 0;}#sk-container-id-2 div.sk-dashed-wrapped {border: 1px dashed gray;margin: 0 0.4em 0.5em 0.4em;box-sizing: border-box;padding-bottom: 0.4em;background-color: white;}#sk-container-id-2 div.sk-label label {font-family: monospace;font-weight: bold;display: inline-block;line-height: 1.2em;}#sk-container-id-2 div.sk-label-container {text-align: center;}#sk-container-id-2 div.sk-container {/* jupyter's `normalize.less` sets `[hidden] { display: none; }` but bootstrap.min.css set `[hidden] { display: none !important; }` so we also need the `!important` here to be able to override the default hidden behavior on the sphinx rendered scikit-learn.org. See: https://github.com/scikit-learn/scikit-learn/issues/21755 */display: inline-block !important;position: relative;}#sk-container-id-2 div.sk-text-repr-fallback {display: none;}</style><div id=\"sk-container-id-2\" class=\"sk-top-container\"><div class=\"sk-text-repr-fallback\"><pre>LogisticRegression()</pre><b>In a Jupyter environment, please rerun this cell to show the HTML representation or trust the notebook. <br />On GitHub, the HTML representation is unable to render, please try loading this page with nbviewer.org.</b></div><div class=\"sk-container\" hidden><div class=\"sk-item\"><div class=\"sk-estimator sk-toggleable\"><input class=\"sk-toggleable__control sk-hidden--visually\" id=\"sk-estimator-id-2\" type=\"checkbox\" checked><label for=\"sk-estimator-id-2\" class=\"sk-toggleable__label sk-toggleable__label-arrow\">LogisticRegression</label><div class=\"sk-toggleable__content\"><pre>LogisticRegression()</pre></div></div></div></div></div>"
      ],
      "text/plain": [
       "LogisticRegression()"
      ]
     },
     "execution_count": 16,
     "metadata": {},
     "output_type": "execute_result"
    }
   ],
   "source": [
    "reg.fit(x_train, y_train)"
   ]
  },
  {
   "cell_type": "code",
   "execution_count": 17,
   "id": "43d4aab8",
   "metadata": {},
   "outputs": [
    {
     "data": {
      "text/plain": [
       "0.7366412213740458"
      ]
     },
     "execution_count": 17,
     "metadata": {},
     "output_type": "execute_result"
    }
   ],
   "source": [
    "reg.score(x_train, y_train)"
   ]
  },
  {
   "cell_type": "markdown",
   "id": "fc74b04f",
   "metadata": {},
   "source": [
    "## Manual Checking the outputs"
   ]
  },
  {
   "cell_type": "code",
   "execution_count": 18,
   "id": "1fe5b845",
   "metadata": {},
   "outputs": [],
   "source": [
    "model_outputs = reg.predict(x_train)"
   ]
  },
  {
   "cell_type": "code",
   "execution_count": 19,
   "id": "94760fbf",
   "metadata": {},
   "outputs": [
    {
     "data": {
      "text/plain": [
       "0.7366412213740458"
      ]
     },
     "execution_count": 19,
     "metadata": {},
     "output_type": "execute_result"
    }
   ],
   "source": [
    "(model_outputs == y_train).sum() / y_train.shape[0]"
   ]
  },
  {
   "cell_type": "markdown",
   "id": "57824b28",
   "metadata": {},
   "source": [
    "### What are the values of Intercept(bias) and coefficients(weights)"
   ]
  },
  {
   "cell_type": "code",
   "execution_count": 20,
   "id": "8f7ae658",
   "metadata": {},
   "outputs": [
    {
     "data": {
      "text/plain": [
       "-1.3475563128218284"
      ]
     },
     "execution_count": 20,
     "metadata": {},
     "output_type": "execute_result"
    }
   ],
   "source": [
    "reg.intercept_[0]"
   ]
  },
  {
   "cell_type": "code",
   "execution_count": 21,
   "id": "b50d3757",
   "metadata": {},
   "outputs": [
    {
     "data": {
      "text/plain": [
       "array([ 2.35444722,  0.42424739,  2.45235337,  0.59205429,  0.09672736,\n",
       "       -0.25793199,  0.45874475,  0.01184495, -0.05925763,  0.21126837,\n",
       "        0.59530394, -0.22507848,  0.14383312])"
      ]
     },
     "execution_count": 21,
     "metadata": {},
     "output_type": "execute_result"
    }
   ],
   "source": [
    "reg.coef_[0]"
   ]
  },
  {
   "cell_type": "code",
   "execution_count": 22,
   "id": "b2f0d1ce",
   "metadata": {},
   "outputs": [],
   "source": [
    "feature_names = df5.columns.values"
   ]
  },
  {
   "cell_type": "code",
   "execution_count": 23,
   "id": "ad643e03",
   "metadata": {},
   "outputs": [
    {
     "data": {
      "text/plain": [
       "array([[ 2.35444722],\n",
       "       [ 0.42424739],\n",
       "       [ 2.45235337],\n",
       "       [ 0.59205429],\n",
       "       [ 0.09672736],\n",
       "       [-0.25793199],\n",
       "       [ 0.45874475],\n",
       "       [ 0.01184495],\n",
       "       [-0.05925763],\n",
       "       [ 0.21126837],\n",
       "       [ 0.59530394],\n",
       "       [-0.22507848],\n",
       "       [ 0.14383312]])"
      ]
     },
     "execution_count": 23,
     "metadata": {},
     "output_type": "execute_result"
    }
   ],
   "source": [
    "np.transpose(reg.coef_)"
   ]
  },
  {
   "cell_type": "markdown",
   "id": "faa65c5a",
   "metadata": {},
   "source": [
    "##### Designing a summary table of the values we got"
   ]
  },
  {
   "cell_type": "code",
   "execution_count": 24,
   "id": "ccf8cecf",
   "metadata": {},
   "outputs": [],
   "source": [
    "summary_table = pd.DataFrame(columns=['feature_names'], data = feature_names )"
   ]
  },
  {
   "cell_type": "code",
   "execution_count": 25,
   "id": "79f694ad",
   "metadata": {},
   "outputs": [],
   "source": [
    "summary_table['Coefficients'] = np.transpose(reg.coef_)\n",
    "summary_table.index = summary_table.index+1"
   ]
  },
  {
   "cell_type": "code",
   "execution_count": 26,
   "id": "66b97314",
   "metadata": {},
   "outputs": [
    {
     "data": {
      "text/html": [
       "<div>\n",
       "<style scoped>\n",
       "    .dataframe tbody tr th:only-of-type {\n",
       "        vertical-align: middle;\n",
       "    }\n",
       "\n",
       "    .dataframe tbody tr th {\n",
       "        vertical-align: top;\n",
       "    }\n",
       "\n",
       "    .dataframe thead th {\n",
       "        text-align: right;\n",
       "    }\n",
       "</style>\n",
       "<table border=\"1\" class=\"dataframe\">\n",
       "  <thead>\n",
       "    <tr style=\"text-align: right;\">\n",
       "      <th></th>\n",
       "      <th>feature_names</th>\n",
       "      <th>Coefficients</th>\n",
       "    </tr>\n",
       "  </thead>\n",
       "  <tbody>\n",
       "    <tr>\n",
       "      <th>1</th>\n",
       "      <td>Reason_1</td>\n",
       "      <td>2.354447</td>\n",
       "    </tr>\n",
       "    <tr>\n",
       "      <th>2</th>\n",
       "      <td>Reason_2</td>\n",
       "      <td>0.424247</td>\n",
       "    </tr>\n",
       "    <tr>\n",
       "      <th>3</th>\n",
       "      <td>Reason_3</td>\n",
       "      <td>2.452353</td>\n",
       "    </tr>\n",
       "    <tr>\n",
       "      <th>4</th>\n",
       "      <td>Reason_4</td>\n",
       "      <td>0.592054</td>\n",
       "    </tr>\n",
       "    <tr>\n",
       "      <th>5</th>\n",
       "      <td>Month of absence</td>\n",
       "      <td>0.096727</td>\n",
       "    </tr>\n",
       "    <tr>\n",
       "      <th>6</th>\n",
       "      <td>Day of the week</td>\n",
       "      <td>-0.257932</td>\n",
       "    </tr>\n",
       "    <tr>\n",
       "      <th>7</th>\n",
       "      <td>Transportation expense</td>\n",
       "      <td>0.458745</td>\n",
       "    </tr>\n",
       "    <tr>\n",
       "      <th>8</th>\n",
       "      <td>Distance from Residence to Work</td>\n",
       "      <td>0.011845</td>\n",
       "    </tr>\n",
       "    <tr>\n",
       "      <th>9</th>\n",
       "      <td>Work load Average/day</td>\n",
       "      <td>-0.059258</td>\n",
       "    </tr>\n",
       "    <tr>\n",
       "      <th>10</th>\n",
       "      <td>Education</td>\n",
       "      <td>0.211268</td>\n",
       "    </tr>\n",
       "    <tr>\n",
       "      <th>11</th>\n",
       "      <td>Son</td>\n",
       "      <td>0.595304</td>\n",
       "    </tr>\n",
       "    <tr>\n",
       "      <th>12</th>\n",
       "      <td>Pet</td>\n",
       "      <td>-0.225078</td>\n",
       "    </tr>\n",
       "    <tr>\n",
       "      <th>13</th>\n",
       "      <td>Body mass index</td>\n",
       "      <td>0.143833</td>\n",
       "    </tr>\n",
       "    <tr>\n",
       "      <th>0</th>\n",
       "      <td>Intercept</td>\n",
       "      <td>-1.347556</td>\n",
       "    </tr>\n",
       "  </tbody>\n",
       "</table>\n",
       "</div>"
      ],
      "text/plain": [
       "                      feature_names  Coefficients\n",
       "1                          Reason_1      2.354447\n",
       "2                          Reason_2      0.424247\n",
       "3                          Reason_3      2.452353\n",
       "4                          Reason_4      0.592054\n",
       "5                  Month of absence      0.096727\n",
       "6                   Day of the week     -0.257932\n",
       "7            Transportation expense      0.458745\n",
       "8   Distance from Residence to Work      0.011845\n",
       "9            Work load Average/day      -0.059258\n",
       "10                        Education      0.211268\n",
       "11                              Son      0.595304\n",
       "12                              Pet     -0.225078\n",
       "13                  Body mass index      0.143833\n",
       "0                         Intercept     -1.347556"
      ]
     },
     "execution_count": 26,
     "metadata": {},
     "output_type": "execute_result"
    }
   ],
   "source": [
    "summary_table.loc[0] = ['Intercept', reg.intercept_[0]]\n",
    "summary_table"
   ]
  },
  {
   "cell_type": "code",
   "execution_count": 27,
   "id": "6a06a162",
   "metadata": {},
   "outputs": [
    {
     "data": {
      "text/html": [
       "<div>\n",
       "<style scoped>\n",
       "    .dataframe tbody tr th:only-of-type {\n",
       "        vertical-align: middle;\n",
       "    }\n",
       "\n",
       "    .dataframe tbody tr th {\n",
       "        vertical-align: top;\n",
       "    }\n",
       "\n",
       "    .dataframe thead th {\n",
       "        text-align: right;\n",
       "    }\n",
       "</style>\n",
       "<table border=\"1\" class=\"dataframe\">\n",
       "  <thead>\n",
       "    <tr style=\"text-align: right;\">\n",
       "      <th></th>\n",
       "      <th>feature_names</th>\n",
       "      <th>Coefficients</th>\n",
       "      <th>Odds_data</th>\n",
       "    </tr>\n",
       "  </thead>\n",
       "  <tbody>\n",
       "    <tr>\n",
       "      <th>3</th>\n",
       "      <td>Reason_3</td>\n",
       "      <td>2.452353</td>\n",
       "      <td>11.615650</td>\n",
       "    </tr>\n",
       "    <tr>\n",
       "      <th>1</th>\n",
       "      <td>Reason_1</td>\n",
       "      <td>2.354447</td>\n",
       "      <td>10.532305</td>\n",
       "    </tr>\n",
       "    <tr>\n",
       "      <th>11</th>\n",
       "      <td>Son</td>\n",
       "      <td>0.595304</td>\n",
       "      <td>1.813582</td>\n",
       "    </tr>\n",
       "    <tr>\n",
       "      <th>4</th>\n",
       "      <td>Reason_4</td>\n",
       "      <td>0.592054</td>\n",
       "      <td>1.807698</td>\n",
       "    </tr>\n",
       "    <tr>\n",
       "      <th>7</th>\n",
       "      <td>Transportation expense</td>\n",
       "      <td>0.458745</td>\n",
       "      <td>1.582087</td>\n",
       "    </tr>\n",
       "    <tr>\n",
       "      <th>2</th>\n",
       "      <td>Reason_2</td>\n",
       "      <td>0.424247</td>\n",
       "      <td>1.528440</td>\n",
       "    </tr>\n",
       "    <tr>\n",
       "      <th>10</th>\n",
       "      <td>Education</td>\n",
       "      <td>0.211268</td>\n",
       "      <td>1.235244</td>\n",
       "    </tr>\n",
       "    <tr>\n",
       "      <th>13</th>\n",
       "      <td>Body mass index</td>\n",
       "      <td>0.143833</td>\n",
       "      <td>1.154691</td>\n",
       "    </tr>\n",
       "    <tr>\n",
       "      <th>5</th>\n",
       "      <td>Month of absence</td>\n",
       "      <td>0.096727</td>\n",
       "      <td>1.101560</td>\n",
       "    </tr>\n",
       "    <tr>\n",
       "      <th>8</th>\n",
       "      <td>Distance from Residence to Work</td>\n",
       "      <td>0.011845</td>\n",
       "      <td>1.011915</td>\n",
       "    </tr>\n",
       "    <tr>\n",
       "      <th>9</th>\n",
       "      <td>Work load Average/day</td>\n",
       "      <td>-0.059258</td>\n",
       "      <td>0.942464</td>\n",
       "    </tr>\n",
       "    <tr>\n",
       "      <th>12</th>\n",
       "      <td>Pet</td>\n",
       "      <td>-0.225078</td>\n",
       "      <td>0.798454</td>\n",
       "    </tr>\n",
       "    <tr>\n",
       "      <th>6</th>\n",
       "      <td>Day of the week</td>\n",
       "      <td>-0.257932</td>\n",
       "      <td>0.772648</td>\n",
       "    </tr>\n",
       "    <tr>\n",
       "      <th>0</th>\n",
       "      <td>Intercept</td>\n",
       "      <td>-1.347556</td>\n",
       "      <td>0.259875</td>\n",
       "    </tr>\n",
       "  </tbody>\n",
       "</table>\n",
       "</div>"
      ],
      "text/plain": [
       "                      feature_names  Coefficients  Odds_data\n",
       "3                          Reason_3      2.452353  11.615650\n",
       "1                          Reason_1      2.354447  10.532305\n",
       "11                              Son      0.595304   1.813582\n",
       "4                          Reason_4      0.592054   1.807698\n",
       "7            Transportation expense      0.458745   1.582087\n",
       "2                          Reason_2      0.424247   1.528440\n",
       "10                        Education      0.211268   1.235244\n",
       "13                  Body mass index      0.143833   1.154691\n",
       "5                  Month of absence      0.096727   1.101560\n",
       "8   Distance from Residence to Work      0.011845   1.011915\n",
       "9            Work load Average/day      -0.059258   0.942464\n",
       "12                              Pet     -0.225078   0.798454\n",
       "6                   Day of the week     -0.257932   0.772648\n",
       "0                         Intercept     -1.347556   0.259875"
      ]
     },
     "execution_count": 27,
     "metadata": {},
     "output_type": "execute_result"
    }
   ],
   "source": [
    "summary_table['Odds_data'] = np.exp(summary_table['Coefficients'])\n",
    "summary_table.sort_values(by = 'Odds_data', ascending= False, inplace=True)\n",
    "summary_table"
   ]
  },
  {
   "cell_type": "code",
   "execution_count": 28,
   "id": "29504dd1",
   "metadata": {},
   "outputs": [],
   "source": [
    "\n",
    "with open('Scaler','wb') as file:\n",
    "    pickle.dump(scaler,file)"
   ]
  },
  {
   "cell_type": "code",
   "execution_count": 29,
   "id": "fa58c52e",
   "metadata": {},
   "outputs": [],
   "source": [
    "with open('Model','wb') as file:\n",
    "    pickle.dump(reg, file)"
   ]
  },
  {
   "cell_type": "code",
   "execution_count": null,
   "id": "cb3ccdbe",
   "metadata": {},
   "outputs": [],
   "source": []
  },
  {
   "cell_type": "code",
   "execution_count": 30,
   "id": "981b00cb",
   "metadata": {},
   "outputs": [
    {
     "data": {
      "text/plain": [
       "array([0.21392488, 0.78261124, 0.2253243 , 0.54617877, 0.29693789,\n",
       "       0.34013367, 0.2774964 , 0.27061777, 0.83753207, 0.68944643,\n",
       "       0.55925977, 0.75645576, 0.553982  , 0.17687561, 0.54487847,\n",
       "       0.29917156, 0.46750321, 0.78607212, 0.53924195, 0.58934368,\n",
       "       0.17636083, 0.27329505, 0.68836919, 0.62205449, 0.95266802,\n",
       "       0.26245265, 0.18945113, 0.94040087, 0.10798627, 0.84648491,\n",
       "       0.6700766 , 0.39598874, 0.27329505, 0.38632525, 0.19238617,\n",
       "       0.32537085, 0.82090642, 0.54823791, 0.83396485, 0.87518863,\n",
       "       0.16247325, 0.54381635, 0.16262248, 0.47229121, 0.80306141,\n",
       "       0.75577829, 0.71612269, 0.15929913, 0.34953905, 0.204146  ,\n",
       "       0.87822067, 0.60523219, 0.42268436, 0.17035396, 0.15981807,\n",
       "       0.14236069, 0.24432427, 0.84441236, 0.23367267, 0.84576359,\n",
       "       0.68944643, 0.85543627, 0.27061777, 0.09539072, 0.20747703,\n",
       "       0.20542426, 0.32185929, 0.31909864, 0.16446278, 0.1516368 ,\n",
       "       0.27228469, 0.46360239, 0.7152524 , 0.860638  , 0.42692132,\n",
       "       0.52263817, 0.1260849 , 0.80519696, 0.60424489, 0.17656561,\n",
       "       0.41048113, 0.89586642, 0.3012483 , 0.33054246, 0.86479266,\n",
       "       0.79043293, 0.29458032, 0.125194  , 0.11156181, 0.44716334,\n",
       "       0.86388617, 0.48051059, 0.33054246, 0.76644627, 0.57160518,\n",
       "       0.27653291, 0.18260829, 0.28394475, 0.57989304, 0.68231944,\n",
       "       0.38078707, 0.18945113, 0.89699149, 0.23017376, 0.31801396,\n",
       "       0.2617089 , 0.22461474, 0.68558641, 0.85543627, 0.11569973,\n",
       "       0.60165255, 0.28703714, 0.64746951, 0.17207546, 0.19993927,\n",
       "       0.31801396, 0.17460531, 0.94843471, 0.95473842, 0.53111433,\n",
       "       0.87234635, 0.76284803, 0.56224826, 0.19313475, 0.30346477,\n",
       "       0.93431851, 0.71192601, 0.25476862, 0.39870535, 0.1534825 ,\n",
       "       0.23064868])"
      ]
     },
     "execution_count": 30,
     "metadata": {},
     "output_type": "execute_result"
    }
   ],
   "source": [
    "reg.predict_proba(x_test)[:,1]"
   ]
  },
  {
   "cell_type": "code",
   "execution_count": 31,
   "id": "a5fe412e",
   "metadata": {},
   "outputs": [
    {
     "data": {
      "text/plain": [
       "array([0, 1, 0, 1, 0, 0, 0, 0, 1, 1, 1, 1, 1, 0, 1, 0, 0, 1, 1, 1, 0, 0,\n",
       "       1, 1, 1, 0, 0, 1, 0, 1, 1, 0, 0, 0, 0, 0, 1, 1, 1, 1, 0, 1, 0, 0,\n",
       "       1, 1, 1, 0, 0, 0, 1, 1, 0, 0, 0, 0, 0, 1, 0, 1, 1, 1, 0, 0, 0, 0,\n",
       "       0, 0, 0, 0, 0, 0, 1, 1, 0, 1, 0, 1, 1, 0, 0, 1, 0, 0, 1, 1, 0, 0,\n",
       "       0, 0, 1, 0, 0, 1, 1, 0, 0, 0, 1, 1, 0, 0, 1, 0, 0, 0, 0, 1, 1, 0,\n",
       "       1, 0, 1, 0, 0, 0, 0, 1, 1, 1, 1, 1, 1, 0, 0, 1, 1, 0, 0, 0, 0],\n",
       "      dtype=int64)"
      ]
     },
     "execution_count": 31,
     "metadata": {},
     "output_type": "execute_result"
    }
   ],
   "source": [
    "reg.predict(x_test)"
   ]
  },
  {
   "cell_type": "code",
   "execution_count": 32,
   "id": "3d8a7953",
   "metadata": {},
   "outputs": [
    {
     "data": {
      "text/plain": [
       "0.732824427480916"
      ]
     },
     "execution_count": 32,
     "metadata": {},
     "output_type": "execute_result"
    }
   ],
   "source": [
    "reg.score(x_test,y_test)"
   ]
  },
  {
   "cell_type": "code",
   "execution_count": 33,
   "id": "25ce5274",
   "metadata": {},
   "outputs": [
    {
     "data": {
      "text/html": [
       "<div>\n",
       "<style scoped>\n",
       "    .dataframe tbody tr th:only-of-type {\n",
       "        vertical-align: middle;\n",
       "    }\n",
       "\n",
       "    .dataframe tbody tr th {\n",
       "        vertical-align: top;\n",
       "    }\n",
       "\n",
       "    .dataframe thead th {\n",
       "        text-align: right;\n",
       "    }\n",
       "</style>\n",
       "<table border=\"1\" class=\"dataframe\">\n",
       "  <thead>\n",
       "    <tr style=\"text-align: right;\">\n",
       "      <th></th>\n",
       "      <th>Parameter</th>\n",
       "      <th>Values</th>\n",
       "    </tr>\n",
       "  </thead>\n",
       "  <tbody>\n",
       "    <tr>\n",
       "      <th>0</th>\n",
       "      <td>C</td>\n",
       "      <td>1.0</td>\n",
       "    </tr>\n",
       "    <tr>\n",
       "      <th>1</th>\n",
       "      <td>class_weight</td>\n",
       "      <td>None</td>\n",
       "    </tr>\n",
       "    <tr>\n",
       "      <th>2</th>\n",
       "      <td>dual</td>\n",
       "      <td>False</td>\n",
       "    </tr>\n",
       "    <tr>\n",
       "      <th>3</th>\n",
       "      <td>fit_intercept</td>\n",
       "      <td>True</td>\n",
       "    </tr>\n",
       "    <tr>\n",
       "      <th>4</th>\n",
       "      <td>intercept_scaling</td>\n",
       "      <td>1</td>\n",
       "    </tr>\n",
       "    <tr>\n",
       "      <th>5</th>\n",
       "      <td>l1_ratio</td>\n",
       "      <td>None</td>\n",
       "    </tr>\n",
       "    <tr>\n",
       "      <th>6</th>\n",
       "      <td>max_iter</td>\n",
       "      <td>100</td>\n",
       "    </tr>\n",
       "    <tr>\n",
       "      <th>7</th>\n",
       "      <td>multi_class</td>\n",
       "      <td>auto</td>\n",
       "    </tr>\n",
       "    <tr>\n",
       "      <th>8</th>\n",
       "      <td>n_jobs</td>\n",
       "      <td>None</td>\n",
       "    </tr>\n",
       "    <tr>\n",
       "      <th>9</th>\n",
       "      <td>penalty</td>\n",
       "      <td>l2</td>\n",
       "    </tr>\n",
       "    <tr>\n",
       "      <th>10</th>\n",
       "      <td>random_state</td>\n",
       "      <td>None</td>\n",
       "    </tr>\n",
       "    <tr>\n",
       "      <th>11</th>\n",
       "      <td>solver</td>\n",
       "      <td>lbfgs</td>\n",
       "    </tr>\n",
       "    <tr>\n",
       "      <th>12</th>\n",
       "      <td>tol</td>\n",
       "      <td>0.0001</td>\n",
       "    </tr>\n",
       "    <tr>\n",
       "      <th>13</th>\n",
       "      <td>verbose</td>\n",
       "      <td>0</td>\n",
       "    </tr>\n",
       "    <tr>\n",
       "      <th>14</th>\n",
       "      <td>warm_start</td>\n",
       "      <td>False</td>\n",
       "    </tr>\n",
       "  </tbody>\n",
       "</table>\n",
       "</div>"
      ],
      "text/plain": [
       "            Parameter  Values\n",
       "0                   C     1.0\n",
       "1        class_weight    None\n",
       "2                dual   False\n",
       "3       fit_intercept    True\n",
       "4   intercept_scaling       1\n",
       "5            l1_ratio    None\n",
       "6            max_iter     100\n",
       "7         multi_class    auto\n",
       "8              n_jobs    None\n",
       "9             penalty      l2\n",
       "10       random_state    None\n",
       "11             solver   lbfgs\n",
       "12                tol  0.0001\n",
       "13            verbose       0\n",
       "14         warm_start   False"
      ]
     },
     "execution_count": 33,
     "metadata": {},
     "output_type": "execute_result"
    }
   ],
   "source": [
    "pd.DataFrame(list(reg.get_params().items()),columns=['Parameter','Values'])"
   ]
  },
  {
   "cell_type": "code",
   "execution_count": 34,
   "id": "68bf0ca2",
   "metadata": {},
   "outputs": [
    {
     "data": {
      "text/plain": [
       "dict_items([('C', 1.0), ('class_weight', None), ('dual', False), ('fit_intercept', True), ('intercept_scaling', 1), ('l1_ratio', None), ('max_iter', 100), ('multi_class', 'auto'), ('n_jobs', None), ('penalty', 'l2'), ('random_state', None), ('solver', 'lbfgs'), ('tol', 0.0001), ('verbose', 0), ('warm_start', False)])"
      ]
     },
     "execution_count": 34,
     "metadata": {},
     "output_type": "execute_result"
    }
   ],
   "source": [
    "reg.get_params().items()"
   ]
  },
  {
   "cell_type": "code",
   "execution_count": 35,
   "id": "08a4c9aa",
   "metadata": {},
   "outputs": [
    {
     "data": {
      "text/plain": [
       "{'C': 1.0,\n",
       " 'class_weight': None,\n",
       " 'dual': False,\n",
       " 'fit_intercept': True,\n",
       " 'intercept_scaling': 1,\n",
       " 'l1_ratio': None,\n",
       " 'max_iter': 100,\n",
       " 'multi_class': 'auto',\n",
       " 'n_jobs': None,\n",
       " 'penalty': 'l2',\n",
       " 'random_state': None,\n",
       " 'solver': 'lbfgs',\n",
       " 'tol': 0.0001,\n",
       " 'verbose': 0,\n",
       " 'warm_start': False}"
      ]
     },
     "execution_count": 35,
     "metadata": {},
     "output_type": "execute_result"
    }
   ],
   "source": [
    "reg.get_params()"
   ]
  },
  {
   "cell_type": "code",
   "execution_count": 36,
   "id": "0c57261f",
   "metadata": {},
   "outputs": [
    {
     "name": "stdout",
     "output_type": "stream",
     "text": [
      "Decision Tree Training accuracy: 0.98\n",
      "Decision Tree Test accuracy: 0.70\n"
     ]
    }
   ],
   "source": [
    "# DecisionTreeClassifier\n",
    "\n",
    "from sklearn.tree import DecisionTreeClassifier\n",
    "\n",
    "# Instantiate the Decision Tree Classifier\n",
    "dt = DecisionTreeClassifier(random_state=20)\n",
    "\n",
    "# Train the model using the training data\n",
    "dt.fit(x_train, y_train)\n",
    "\n",
    "# Print the accuracy score on the training data\n",
    "dt_training_accuracy = dt.score(x_train, y_train)\n",
    "print(f'Decision Tree Training accuracy: {dt_training_accuracy:.2f}')\n",
    "\n",
    "# Evaluate the model on the test data\n",
    "dt_test_accuracy = dt.score(x_test, y_test)\n",
    "print(f'Decision Tree Test accuracy: {dt_test_accuracy:.2f}')\n"
   ]
  },
  {
   "cell_type": "code",
   "execution_count": 37,
   "id": "cd385c09",
   "metadata": {},
   "outputs": [
    {
     "name": "stdout",
     "output_type": "stream",
     "text": [
      "Random Forest Training accuracy: 0.98\n",
      "Random Forest Test accuracy: 0.78\n"
     ]
    }
   ],
   "source": [
    "from sklearn.ensemble import RandomForestClassifier\n",
    "\n",
    "# Instantiate the Random Forest Classifier\n",
    "rf = RandomForestClassifier(random_state=20)\n",
    "\n",
    "# Train the model using the training data\n",
    "rf.fit(x_train, y_train)\n",
    "\n",
    "# Print the accuracy score on the training data\n",
    "rf_training_accuracy = rf.score(x_train, y_train)\n",
    "print(f'Random Forest Training accuracy: {rf_training_accuracy:.2f}')\n",
    "\n",
    "# Evaluate the model on the test data\n",
    "rf_test_accuracy = rf.score(x_test, y_test)\n",
    "print(f'Random Forest Test accuracy: {rf_test_accuracy:.2f}')\n",
    "\n",
    "\n",
    "# Best model RandomForestClassifier\n"
   ]
  },
  {
   "cell_type": "code",
   "execution_count": 38,
   "id": "e2bbc089",
   "metadata": {},
   "outputs": [
    {
     "name": "stdout",
     "output_type": "stream",
     "text": [
      "SVM Training accuracy: 0.77\n",
      "SVM Test accuracy: 0.73\n"
     ]
    }
   ],
   "source": [
    "from sklearn.svm import SVC\n",
    "\n",
    "# Instantiate the Support Vector Classifier\n",
    "svm = SVC(random_state=20)\n",
    "\n",
    "# Train the model using the training data\n",
    "svm.fit(x_train, y_train)\n",
    "\n",
    "# Print the accuracy score on the training data\n",
    "svm_training_accuracy = svm.score(x_train, y_train)\n",
    "print(f'SVM Training accuracy: {svm_training_accuracy:.2f}')\n",
    "\n",
    "# Evaluate the model on the test data\n",
    "svm_test_accuracy = svm.score(x_test, y_test)\n",
    "print(f'SVM Test accuracy: {svm_test_accuracy:.2f}')\n"
   ]
  },
  {
   "cell_type": "code",
   "execution_count": 39,
   "id": "c0143bc1",
   "metadata": {},
   "outputs": [
    {
     "name": "stdout",
     "output_type": "stream",
     "text": [
      "KNN Training accuracy: 0.78\n",
      "KNN Test accuracy: 0.70\n"
     ]
    }
   ],
   "source": [
    "from sklearn.neighbors import KNeighborsClassifier\n",
    "\n",
    "# Instantiate the K-Nearest Neighbors Classifier\n",
    "knn = KNeighborsClassifier()\n",
    "\n",
    "# Train the model using the training data\n",
    "knn.fit(x_train, y_train)\n",
    "\n",
    "# Print the accuracy score on the training data\n",
    "knn_training_accuracy = knn.score(x_train, y_train)\n",
    "print(f'KNN Training accuracy: {knn_training_accuracy:.2f}')\n",
    "\n",
    "# Evaluate the model on the test data\n",
    "knn_test_accuracy = knn.score(x_test, y_test)\n",
    "print(f'KNN Test accuracy: {knn_test_accuracy:.2f}')\n"
   ]
  },
  {
   "cell_type": "code",
   "execution_count": 40,
   "id": "0d7f725a",
   "metadata": {},
   "outputs": [],
   "source": [
    "with open('Model_rf','wb') as file: #saving the Random forest model parameters \n",
    "    pickle.dump(rf, file)"
   ]
  },
  {
   "cell_type": "code",
   "execution_count": 41,
   "id": "b6424a0c",
   "metadata": {
    "scrolled": false
   },
   "outputs": [
    {
     "data": {
      "text/plain": [
       "0.7786259541984732"
      ]
     },
     "execution_count": 41,
     "metadata": {},
     "output_type": "execute_result"
    }
   ],
   "source": [
    "rf_test_accuracy # We choose the Random Forest model whose test accuracy is highest."
   ]
  },
  {
   "cell_type": "code",
   "execution_count": null,
   "id": "ec0df7cd",
   "metadata": {},
   "outputs": [],
   "source": []
  },
  {
   "cell_type": "code",
   "execution_count": null,
   "id": "24b54ce4",
   "metadata": {},
   "outputs": [],
   "source": []
  }
 ],
 "metadata": {
  "kernelspec": {
   "display_name": "Python 3 (ipykernel)",
   "language": "python",
   "name": "python3"
  },
  "language_info": {
   "codemirror_mode": {
    "name": "ipython",
    "version": 3
   },
   "file_extension": ".py",
   "mimetype": "text/x-python",
   "name": "python",
   "nbconvert_exporter": "python",
   "pygments_lexer": "ipython3",
   "version": "3.11.5"
  }
 },
 "nbformat": 4,
 "nbformat_minor": 5
}
